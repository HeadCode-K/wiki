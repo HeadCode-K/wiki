{
 "metadata": {
  "language_info": {
   "codemirror_mode": {
    "name": "ipython",
    "version": 3
   },
   "file_extension": ".py",
   "mimetype": "text/x-python",
   "name": "python",
   "nbconvert_exporter": "python",
   "pygments_lexer": "ipython3",
   "version": "3.8.5"
  },
  "orig_nbformat": 2,
  "kernelspec": {
   "name": "python385jvsc74a57bd0f91f13d384e68efd17c728347eec4dcd8917015cb7974b4e72550edebe4372e2",
   "display_name": "Python 3.8.5 64-bit ('base': conda)"
  }
 },
 "nbformat": 4,
 "nbformat_minor": 2,
 "cells": [
  {
   "source": [
    "import os\n",
    "hm = 'readme.md'\n",
    "folders = ['grad-application', 'intro-module', 'intro-program', 'suzhou-liverpool']\n",
    "en2cn = {'grad-application'：'申请总结', 'intro-module': '课程介绍', 'intro-program': '专业介绍','suzhou-liverpool': '学习生活感想'}\n",
    "s = '\\\\'\n",
    "\n",
    "\n",
    "def get_date(repath):\n",
    "    # relative path\n",
    "    # get create time of the file\n",
    "    import time\n",
    "    filectime = os.path.getctime(repath)\n",
    "    return time.strftime(\"%Y-%m-%d\", time.localtime(filectime))\n",
    "# get_date('suzhou-liverpool\\liverpool0003.md')\n",
    "\n",
    "def trans(repath):\n",
    "    # relative path\n",
    "    # \n",
    "    date = get_date(repath)\n",
    "    pathList = repath.split('\\\\')\n",
    "    cnClass = en2cn[pathList[1]]\n",
    "    fileName = pathList[-1][0:-3]\n",
    "    return ''.join(('- [[',date,'] ','[',cnClass,'] ','[',fileName,']](',repath,')'))\n",
    "# a = trans('suzhou-liverpool\\liverpool0003.md')\n",
    "\n",
    "def read_md(fileMd):\n",
    "    # read md file\n",
    "    with open(fileMd,encoding='utf-8') as f:\n",
    "        lines = f.readlines()\n",
    "    return lines\n",
    "\n",
    "def write_md(fileMd, line):\n",
    "    return 'fine'"
   ],
   "cell_type": "code",
   "metadata": {},
   "execution_count": 1,
   "outputs": []
  },
  {
   "cell_type": "code",
   "execution_count": 2,
   "metadata": {},
   "outputs": [
    {
     "output_type": "execute_result",
     "data": {
      "text/plain": [
       "'- [[2021-05-07] [学习生活感想] [liverpool0003]](.\\\\suzhou-liverpool\\\\liverpool0003.md)'"
      ]
     },
     "metadata": {},
     "execution_count": 2
    }
   ],
   "source": [
    "a = trans('.\\suzhou-liverpool\\liverpool0003.md')  # 去除'.\\'\n",
    "a"
   ]
  },
  {
   "cell_type": "code",
   "execution_count": 4,
   "metadata": {},
   "outputs": [
    {
     "output_type": "stream",
     "name": "stdout",
     "text": [
      ".\\docs\n['liverpool0001.md', 'liverpool0002.md', 'liverpool0003.md', 'readme.md']\n"
     ]
    }
   ],
   "source": [
    "# get relative path ret\n",
    "abspath = os.getcwd()\n",
    "rootpath = os.path.abspath('..')\n",
    "repath = abspath.replace(rootpath,'.',1)\n",
    "print(repath)\n",
    "tmppath = s.join((repath,folders[3]))\n",
    "print(os.listdir(folders[3]))"
   ]
  },
  {
   "cell_type": "code",
   "execution_count": null,
   "metadata": {},
   "outputs": [],
   "source": []
  }
 ]
}